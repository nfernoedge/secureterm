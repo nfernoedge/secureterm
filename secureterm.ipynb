{
  "nbformat": 4,
  "nbformat_minor": 0,
  "metadata": {
    "colab": {
      "provenance": [],
      "authorship_tag": "ABX9TyN7Nwcq2Y/QRGga8odOpeot",
      "include_colab_link": true
    },
    "kernelspec": {
      "name": "python3",
      "display_name": "Python 3"
    },
    "language_info": {
      "name": "python"
    }
  },
  "cells": [
    {
      "cell_type": "markdown",
      "metadata": {
        "id": "view-in-github",
        "colab_type": "text"
      },
      "source": [
        "<a href=\"https://colab.research.google.com/github/nfernoedge/secureterm/blob/main/secureterm.ipynb\" target=\"_parent\"><img src=\"https://colab.research.google.com/assets/colab-badge.svg\" alt=\"Open In Colab\"/></a>"
      ]
    },
    {
      "cell_type": "markdown",
      "source": [
        "Press play button for both cells in order. -n N determines the number of iterations."
      ],
      "metadata": {
        "id": "4xX4urUZmNbD"
      }
    },
    {
      "cell_type": "code",
      "execution_count": null,
      "metadata": {
        "id": "M199WtxwmFpQ"
      },
      "outputs": [],
      "source": [
        "# clone the repo\n",
        "!git clone https://github.com/nfernoedge/secureterm\n",
        "!mv /content/secureterm/secureterm.py /content/secureterm.py\n",
        "!mv /content/secureterm/noun.txt /content/noun.txt\n",
        "!mv /content/secureterm/adj.txt /content/adj.txt"
      ]
    },
    {
      "cell_type": "code",
      "source": [
        "!python3 /content/secureterm.py -n 15"
      ],
      "metadata": {
        "id": "m5mGgzI3mH1v"
      },
      "execution_count": null,
      "outputs": []
    }
  ]
}