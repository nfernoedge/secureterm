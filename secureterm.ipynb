{
  "nbformat": 4,
  "nbformat_minor": 0,
  "metadata": {
    "colab": {
      "provenance": [],
      "authorship_tag": "ABX9TyPi0l/hg6rW9FDP+tzsqT8+",
      "include_colab_link": true
    },
    "kernelspec": {
      "name": "python3",
      "display_name": "Python 3"
    },
    "language_info": {
      "name": "python"
    }
  },
  "cells": [
    {
      "cell_type": "markdown",
      "metadata": {
        "id": "view-in-github",
        "colab_type": "text"
      },
      "source": [
        "<a href=\"https://colab.research.google.com/github/nfernoedge/secureterm/blob/main/secureterm.ipynb\" target=\"_parent\"><img src=\"https://colab.research.google.com/assets/colab-badge.svg\" alt=\"Open In Colab\"/></a>"
      ]
    },
    {
      "cell_type": "markdown",
      "source": [
        "\n",
        "Press play button for both cells in order. -n N determines the number of iterations."
      ],
      "metadata": {
        "id": "9FQZfD9yoSn0"
      }
    },
    {
      "cell_type": "code",
      "execution_count": null,
      "metadata": {
        "id": "dSpE9fsMoPxy"
      },
      "outputs": [],
      "source": [
        "# clone the repo\n",
        "!git clone https://github.com/nfernoedge/secureterm\n",
        "!mv /content/secureterm/secureterm.py /content/secureterm.py\n",
        "!mv /content/secureterm/noun.txt /content/noun.txt\n",
        "!mv /content/secureterm/adj.txt /content/adj.txt"
      ]
    },
    {
      "cell_type": "code",
      "source": [
        "!python3 /content/secureterm.py -n 15"
      ],
      "metadata": {
        "id": "fBVDDJIfoWAi"
      },
      "execution_count": null,
      "outputs": []
    }
  ]
}