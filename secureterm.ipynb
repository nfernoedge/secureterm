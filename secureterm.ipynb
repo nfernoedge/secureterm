{
  "nbformat": 4,
  "nbformat_minor": 0,
  "metadata": {
    "colab": {
      "provenance": [],
      "authorship_tag": "ABX9TyN7Nwcq2Y/QRGga8odOpeot",
      "include_colab_link": true
    },
    "kernelspec": {
      "name": "python3",
      "display_name": "Python 3"
    },
    "language_info": {
      "name": "python"
    }
  },
  "cells": [
    {
      "cell_type": "markdown",
      "metadata": {
        "id": "view-in-github",
        "colab_type": "text"
      },
      "source": [
        "<a href=\"https://colab.research.google.com/github/nfernoedge/secureterm/blob/main/secureterm.ipynb\" target=\"_parent\"><img src=\"https://colab.research.google.com/assets/colab-badge.svg\" alt=\"Open In Colab\"/></a>"
      ]
    },
    {
      "cell_type": "markdown",
      "source": [
        "Press play button for both cells in order. -n N determines the number of iterations."
      ],
      "metadata": {
        "id": "4xX4urUZmNbD"
      }
    },
    {
      "cell_type": "code",
      "execution_count": 1,
      "metadata": {
        "colab": {
          "base_uri": "https://localhost:8080/"
        },
        "id": "M199WtxwmFpQ",
        "outputId": "8289872e-d9d3-467b-f628-1f9fcc5ca8fe"
      },
      "outputs": [
        {
          "output_type": "stream",
          "name": "stdout",
          "text": [
            "Cloning into 'secureterm'...\n",
            "remote: Enumerating objects: 15, done.\u001b[K\n",
            "remote: Counting objects: 100% (15/15), done.\u001b[K\n",
            "remote: Compressing objects: 100% (13/13), done.\u001b[K\n",
            "remote: Total 15 (delta 3), reused 0 (delta 0), pack-reused 0\u001b[K\n",
            "Receiving objects: 100% (15/15), 31.37 KiB | 7.84 MiB/s, done.\n",
            "Resolving deltas: 100% (3/3), done.\n"
          ]
        }
      ],
      "source": [
        "# clone the repo\n",
        "!git clone https://github.com/nfernoedge/secureterm\n",
        "!mv /content/secureterm/secureterm.py /content/secureterm.py\n",
        "!mv /content/secureterm/noun.txt /content/noun.txt\n",
        "!mv /content/secureterm/adj.txt /content/adj.txt"
      ]
    },
    {
      "cell_type": "code",
      "source": [
        "!python3 /content/secureterm.py -n 15"
      ],
      "metadata": {
        "colab": {
          "base_uri": "https://localhost:8080/"
        },
        "id": "m5mGgzI3mH1v",
        "outputId": "321231ec-3d0a-4360-d064-c60d2908e16e"
      },
      "execution_count": 3,
      "outputs": [
        {
          "output_type": "stream",
          "name": "stdout",
          "text": [
            "QUIZZICALALERT443\n",
            "GRUBBYRADIATOR374\n",
            "IMMATERIALSHINGLE131\n",
            "BADCLOSET268\n",
            "SHODDYPOTATO466\n",
            "ALIVEFREELANCE626\n",
            "HIDDENTHUNDERBOLT389\n",
            "BABYISHEATING491\n",
            "UNKEMPTCONTOUR144\n",
            "ALARMEDGEAR165\n",
            "TRUSTWORTHYCOMPOST463\n",
            "BORINGTON621\n",
            "FLASHYSAFFRON935\n",
            "FUNCTIONALANGSTROM630\n",
            "FICKLEMOSQUITO937\n"
          ]
        }
      ]
    }
  ]
}